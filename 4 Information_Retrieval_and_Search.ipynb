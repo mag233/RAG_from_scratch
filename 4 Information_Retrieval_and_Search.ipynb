{
 "cells": [
  {
   "cell_type": "markdown",
   "id": "9897f031",
   "metadata": {},
   "source": [
    "# Information Retrieval\n",
    "\n",
    "Traditionally, information retrieval (IR) has been a key area in computer science, focusing on finding relevant documents from large collections based on user queries. The most common and time-tested method is `keyword search`, where documents are indexed based on the words they contain. When a user inputs a query, the system retrieves documents that match the keywords in the query.\n",
    "\n",
    "In the age of large language models (LLMs), the landscape of IR is evolving. LLMs can understand and generate human-like text, allowing for more sophisticated interactions. Instead of just matching keywords, LLMs can comprehend the `context and semantics` of a query, leading to more relevant and nuanced results.\n",
    "\n",
    "## Search Techniques\n",
    "\n",
    "\n"
   ]
  },
  {
   "cell_type": "markdown",
   "id": "ad7a3912",
   "metadata": {},
   "source": [
    "![Search Techniques](./resource/search_technique.png)\n",
    "\n",
    "*Screenshot from the course showing different search techniques including keyword search and semantic search with metadata filtering*\n"
   ]
  },
  {
   "cell_type": "markdown",
   "id": "85a3e7da",
   "metadata": {},
   "source": []
  },
  {
   "cell_type": "markdown",
   "id": "d5210cbd",
   "metadata": {},
   "source": []
  },
  {
   "cell_type": "markdown",
   "id": "d07cfca0",
   "metadata": {},
   "source": []
  },
  {
   "cell_type": "markdown",
   "id": "8226d720",
   "metadata": {},
   "source": []
  },
  {
   "cell_type": "markdown",
   "id": "fddab9c3",
   "metadata": {},
   "source": []
  }
 ],
 "metadata": {
  "kernelspec": {
   "display_name": "Python 3",
   "language": "python",
   "name": "python3"
  },
  "language_info": {
   "codemirror_mode": {
    "name": "ipython",
    "version": 3
   },
   "file_extension": ".py",
   "mimetype": "text/x-python",
   "name": "python",
   "nbconvert_exporter": "python",
   "pygments_lexer": "ipython3",
   "version": "3.12.2"
  }
 },
 "nbformat": 4,
 "nbformat_minor": 5
}
