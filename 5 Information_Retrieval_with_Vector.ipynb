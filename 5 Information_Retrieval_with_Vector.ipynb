{
 "cells": [
  {
   "cell_type": "markdown",
   "id": "e4977d4c",
   "metadata": {},
   "source": [
    "# Information Retrieval with Vectors\n",
    "\n",
    "## Framework of RAG\n",
    "\n",
    "1. **Create a vector store:** This involves embedding documents into a vector space using a model like Sentence Transformers or OpenAI's text-embedding-ada-002.\n",
    "\n",
    "2. **Add documents to the vector store:** This step involves storing the embedded documents in a vector database such as Pinecone, Weaviate, or a local vector store like FAISS.\n",
    "\n",
    "3. **Query the vector store by calculating similarity between the query and the documents:** This is done by embedding the query and comparing it to the stored document vectors using cosine similarity or other distance metrics.\n",
    "\n",
    "<p align=\"center\">\n",
    "  <img src=\"./resource/vec.jpg\" alt=\"Vector Search\" width=\"800\"/>\n",
    "</p>\n"
   ]
  },
  {
   "cell_type": "markdown",
   "id": "898a8ea1",
   "metadata": {},
   "source": [
    "## Vectors: word embeddings vs. document embeddings"
   ]
  },
  {
   "cell_type": "markdown",
   "id": "56ef4e15",
   "metadata": {},
   "source": [
    "## Models for Embeddings: commercial options vs local options\n"
   ]
  },
  {
   "cell_type": "markdown",
   "id": "bb7dac38",
   "metadata": {},
   "source": [
    "## Databases: FAISS vs Chroma \n",
    "\n",
    "\n"
   ]
  },
  {
   "cell_type": "markdown",
   "id": "55189e50",
   "metadata": {},
   "source": [
    "## Langchain: beginner's guide"
   ]
  }
 ],
 "metadata": {
  "language_info": {
   "name": "python"
  }
 },
 "nbformat": 4,
 "nbformat_minor": 5
}
