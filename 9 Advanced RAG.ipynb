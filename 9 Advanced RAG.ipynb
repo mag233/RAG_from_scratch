{
 "cells": [
  {
   "cell_type": "markdown",
   "id": "18b92598",
   "metadata": {},
   "source": [
    "rerank\n",
    "\n",
    "advance chunking and embeddings"
   ]
  }
 ],
 "metadata": {
  "language_info": {
   "name": "python"
  }
 },
 "nbformat": 4,
 "nbformat_minor": 5
}
