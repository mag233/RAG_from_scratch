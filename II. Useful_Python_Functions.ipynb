{
 "cells": [
  {
   "cell_type": "markdown",
   "id": "6ef5a141",
   "metadata": {},
   "source": [
    "# Useful Advanced Python Functions and Operations\n",
    "I want to learn about some useful advanced Python functions and operations that can help me write more efficient and concise code. Please provide a brief overview of these features, along with examples of how to use them.\n"
   ]
  },
  {
   "cell_type": "markdown",
   "id": "96763c65",
   "metadata": {},
   "source": [
    "## Advanced Python Functions and Methods\n",
    "### 1. Map and Filter Functions\n",
    "   - The `map()` function applies a given function to all items in an iterable (like a list) and returns a map object (which can be converted to a list).\n",
    "   - The `filter()` function filters items in an iterable based on a function that returns True or False.\n",
    "Together with `lambda` functions, these can be used to write concise and functional-style code.\n",
    "   ```python\n",
    "   numbers = [1, 2, 3, 4, 5]\n",
    "   squares = list(map(lambda x: x**2, numbers))  # [1, 4, 9, 16, 25]\n",
    "   evens = list(filter(lambda x: x % 2 == 0, numbers))  # [2, 4]\n",
    "   ```\n",
    "Map is useful for transforming data, while filter is useful for selecting data based on conditions. A real-world example is processing a list of user inputs to extract valid email addresses or transform them into a specific format. Here's an example code:\n",
    "```python\n",
    "user_inputs = [\"user@example.com\", \"invalid-email\", \"Another.user@example.com\"]\n",
    "valid_emails = list(filter(lambda email: \"@\" in email, user_inputs))\n",
    "# Output: ['user@example.com', 'another.user@example.com']\n",
    "print(\"Valid Emails:\", valid_emails)\n",
    "formatted_emails = list(map(lambda email: email.lower(), valid_emails))\n",
    "print(\"Formatted Emails:\", formatted_emails)\n",
    "# Output: ['user@example.com', 'another.user@example.com']\n",
    "```\n"
   ]
  },
  {
   "cell_type": "code",
   "execution_count": 4,
   "id": "6d0ee046",
   "metadata": {},
   "outputs": [
    {
     "name": "stdout",
     "output_type": "stream",
     "text": [
      "Valid Emails: ['user@example.com', 'Another.user@example.com']\n",
      "Formatted Emails: ['user@example.com', 'another.user@example.com']\n"
     ]
    }
   ],
   "source": [
    "user_inputs = [\"user@example.com\", \"invalid-email\", \"Another.user@example.com\"]\n",
    "valid_emails = list(filter(lambda email: \"@\" in email, user_inputs))\n",
    "# Output: ['user@example.com', 'another.user@example.com']\n",
    "print(\"Valid Emails:\", valid_emails)\n",
    "formatted_emails = list(map(lambda email: email.lower(), valid_emails))\n",
    "print(\"Formatted Emails:\", formatted_emails)\n",
    "# Output: ['user@example.com', 'another.user@example.com']\n"
   ]
  },
  {
   "cell_type": "markdown",
   "id": "b319d55d",
   "metadata": {},
   "source": [
    "### 2. Reduce Function\n",
    "   - The `reduce()` function from the `functools` module applies a rolling computation to sequential pairs of values in an iterable.\n",
    "   - It is useful for aggregating data, such as summing a list of numbers or concatenating strings.\n",
    "   ```python\n",
    "   from functools import reduce\n",
    "   numbers = [1, 2, 3, 4, 5]\n",
    "   total = reduce(lambda x, y: x + y, numbers)  # 15\n",
    "   ```\n",
    "Reduce is useful for aggregating data, such as summing a list of numbers or concatenating strings. A real-world example is calculating the total price of items in a shopping cart. Here's an example code:\n",
    "```python\n",
    "from functools import reduce\n",
    "cart_items = [10.99, 5.49, 3.99, 12.99]\n",
    "total_price = reduce(lambda x, y: x + y, cart_items)  # 33.46\n",
    "print(\"Total Price:\", total_price)\n",
    "# Output: Total Price: 33.46\n",
    "```"
   ]
  },
  {
   "cell_type": "code",
   "execution_count": null,
   "id": "f69eb651",
   "metadata": {},
   "outputs": [],
   "source": []
  },
  {
   "cell_type": "markdown",
   "id": "b6a15a1b",
   "metadata": {},
   "source": []
  },
  {
   "cell_type": "markdown",
   "id": "6b1695b1",
   "metadata": {},
   "source": []
  }
 ],
 "metadata": {
  "kernelspec": {
   "display_name": "Python 3",
   "language": "python",
   "name": "python3"
  },
  "language_info": {
   "codemirror_mode": {
    "name": "ipython",
    "version": 3
   },
   "file_extension": ".py",
   "mimetype": "text/x-python",
   "name": "python",
   "nbconvert_exporter": "python",
   "pygments_lexer": "ipython3",
   "version": "3.12.2"
  }
 },
 "nbformat": 4,
 "nbformat_minor": 5
}
