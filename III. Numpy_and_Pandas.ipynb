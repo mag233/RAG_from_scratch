{
 "cells": [
  {
   "cell_type": "markdown",
   "id": "8d0f5624",
   "metadata": {},
   "source": [
    "# Numpy and Pandas\n",
    "Numpy and Pandas are the most popular libraries for data manipulation and analysis in Python. They provide powerful data structures and functions to work with large datasets efficiently. Numpy is primarily used for numerical computations, while Pandas is built on top of Numpy and provides data structures like DataFrames for handling tabular data.\n",
    "## Quick comparison\n",
    "| Feature | Numpy | Pandas |\n",
    "| --- | --- | --- |\n",
    "| Data Structure | N-dimensional arrays | DataFrames (2D labeled data) |\n",
    "| Indexing | Integer-based | Label-based |\n",
    "| Data Types | Homogeneous | Heterogeneous |\n",
    "| Operations | Element-wise operations, linear algebra | Data manipulation, aggregation, merging |\n",
    "| Performance | Fast for numerical computations | Optimized for data manipulation |\n"
   ]
  },
  {
   "cell_type": "markdown",
   "id": "6899e6ff",
   "metadata": {},
   "source": [
    "## Numpy Operations\n",
    "\n",
    "We need to import the Numpy library to use its functionalities. Numpy is a powerful library for numerical computations in Python, providing support for large, multi-dimensional arrays and matrices, along with a collection of mathematical functions to operate on these arrays.\n",
    "\n",
    "### Basic Numpy Operations\n",
    "To create a Numpy array, we can use the `np.array()` function. This function takes a list or tuple as input and converts it into a Numpy array. The syntax is as follows:\n",
    "\n",
    "some_array = np.array([some_list])\n",
    "\n",
    "This creates a Numpy array from the provided list. To create a multi-dimensional array, we can pass a nested list or tuple to the `np.array()` function. For example:   \n",
    "\n",
    "multi_dimensional_array = np.array([[1, 2, 3], [4, 5, 6]])\n",
    "\n",
    "This creates a 2D Numpy array with two rows and three columns (2x3). \n",
    "\n",
    "Here are some basic operations you can perform with Numpy arrays:\n",
    "\n",
    "```python\n",
    "import numpy as np  \n",
    "# Create a Numpy array\n",
    "arr = np.array([1, 2, 3, 4, 5]) #Arrays are the core data structure in Numpy, allowing for efficient storage and manipulation of numerical data. \n",
    "print(arr)  # Output: [1 2 3 4 5]\n",
    "# Create a multi-dimensional array\n",
    "multi_dimensional_arr = np.array([[1, 2, 3], [4, 5, 6]])  # Creating a 2D array with two rows and three columns\n",
    "print(multi_dimensional_arr)  # Output: [[1 2 3] [4 5 6]]\n",
    "```\n",
    "\n",
    "`Broadcasting` is a powerful feature in Numpy that allows you to perform operations on arrays of different shapes and sizes. It automatically expands the smaller array to match the shape of the larger array, enabling element-wise operations without the need for explicit loops.\n",
    "\n",
    "```python\n",
    "# Perform element-wise operations\n",
    "arr_squared = arr ** 2  # Squaring each element. You use broadcasting to operate on arrays of different shapes and sizes. Valid operations include addition, subtraction, multiplication, and division.\n",
    "print(arr_squared)  # Output: [ 1  4  9 16 25]\n",
    "```\n",
    "Arrays can be `modified and reshaped` without changing their data. This is useful for preparing data for various operations, such as matrix multiplication or statistical analysis.\n",
    "```Python\n",
    "# Reshape the array\n",
    "reshaped_arr = arr.reshape(5, 1)  # Reshaping to a 2D array with 5 rows and 1 column\n",
    "print(reshaped_arr)  # Output: [[1] [2] [3] [4] [5]]\n",
    "# Editing an element\n",
    "reshaped_arr[0, 0] = 10  # Changing the first element to 10\n",
    "print(reshaped_arr)  # Output: [[10] [ 2] [ 3] [ 4] [ 5]]\n",
    "# Slicing the array\n",
    "sliced_arr = reshaped_arr[1:4, 0]  # Slicing the array to get elements from index 1 to 3 by row\n",
    "print(sliced_arr)  # Output: [2 3 4]\n",
    "\n",
    "```\n"
   ]
  },
  {
   "cell_type": "code",
   "execution_count": 1,
   "id": "e6d6ccd7",
   "metadata": {},
   "outputs": [
    {
     "name": "stdout",
     "output_type": "stream",
     "text": [
      "Requirement already satisfied: numpy in /Library/Frameworks/Python.framework/Versions/3.12/lib/python3.12/site-packages (2.3.2)\n",
      "\n",
      "\u001b[1m[\u001b[0m\u001b[34;49mnotice\u001b[0m\u001b[1;39;49m]\u001b[0m\u001b[39;49m A new release of pip is available: \u001b[0m\u001b[31;49m24.0\u001b[0m\u001b[39;49m -> \u001b[0m\u001b[32;49m25.2\u001b[0m\n",
      "\u001b[1m[\u001b[0m\u001b[34;49mnotice\u001b[0m\u001b[1;39;49m]\u001b[0m\u001b[39;49m To update, run: \u001b[0m\u001b[32;49mpip3 install --upgrade pip\u001b[0m\n",
      "Note: you may need to restart the kernel to use updated packages.\n"
     ]
    }
   ],
   "source": [
    "%pip install numpy\n"
   ]
  },
  {
   "cell_type": "code",
   "execution_count": 2,
   "id": "4c44d79a",
   "metadata": {},
   "outputs": [
    {
     "name": "stdout",
     "output_type": "stream",
     "text": [
      "[1 2 3 4 5]\n",
      "multi_dimensional_arr: [[1 2 3]\n",
      " [4 5 6]]\n",
      "arr_with_dtype: [1. 2. 3.]\n",
      "arr_with_shape:\n",
      " [[0. 0. 0.]\n",
      " [0. 0. 0.]]\n",
      "shape of arr_with_shape: (2, 3)\n",
      "arr_with_range:\n",
      " [0 2 4 6 8]\n",
      "arr_with_random:\n",
      " [[0.72285723 0.67970159]\n",
      " [0.42166589 0.96170304]\n",
      " [0.87073293 0.19762868]]\n",
      "shape of arr_with_random: (3, 2)\n"
     ]
    }
   ],
   "source": [
    "import numpy as np\n",
    "# Create a Numpy array\n",
    "arr = np.array([1, 2, 3, 4, 5]) #Arrays are the core data structure in Numpy, allowing for efficient storage and manipulation of numerical data. \n",
    "print(arr)  # Output: [1 2 3 4 5]\n",
    "# Create a multi-dimensional array\n",
    "multi_dimensional_arr = np.array([[1, 2, 3], [4, 5, 6]])  # Creating a 2D array with two rows and three columns\n",
    "print('multi_dimensional_arr:', multi_dimensional_arr)  # Output: [[1 2 3] [4 5 6]]\n",
    "\n",
    "# Create a Numpy array with a specific data type\n",
    "arr_with_dtype = np.array([1, 2, 3], dtype=np.float64)  # Specifying the data type as float64\n",
    "print('arr_with_dtype:', arr_with_dtype)  # Output: [1. 2. 3.]\n",
    "# Create a Numpy array with a specific shape\n",
    "arr_with_shape = np.zeros((2, 3))  # Creating a 2D array filled with zeros, with shape (2, 3)\n",
    "print('arr_with_shape:\\n', arr_with_shape)  # Output: [[0. 0. 0.] [0. 0. 0.]]\n",
    "print('shape of arr_with_shape:', arr_with_shape.shape)  # Output: (2, 3)\n",
    "\n",
    "# Create a Numpy array with a specific range of values\n",
    "arr_with_range = np.arange(0, 10, 2)  # Creating an array with values from 0 to 10, with a step of 2\n",
    "print('arr_with_range:\\n', arr_with_range)  # Output: [0 2 4 6 8]\n",
    "\n",
    "# Create a Numpy array with random values\n",
    "arr_with_random = np.random.rand(3, 2)  # Creating a 2D array with random values, with shape (3, 2)\n",
    "print('arr_with_random:\\n', arr_with_random)\n",
    "print('shape of arr_with_random:', arr_with_random.shape)  # Output: (3, 2)"
   ]
  },
  {
   "cell_type": "markdown",
   "id": "ae74ee03",
   "metadata": {},
   "source": [
    "### Numpy Operations in Machine Learning\n",
    "Numpy is widely used in machine learning for various tasks, such as data preprocessing, feature extraction, and model training. \n",
    "\n",
    "The advantages of using Numpy in machine learning include:\n",
    "- **Performance**: Numpy arrays are more efficient than Python lists for numerical computations, allowing for faster data processing and manipulation.\n",
    "\n",
    "- **Memory Efficiency**: Numpy arrays use less memory compared to Python lists, making them suitable for handling large datasets.\n",
    "  \n",
    "- **Vectorization**: Numpy supports vectorized operations, which allow for efficient computation on entire arrays without the need for explicit loops.\n",
    "  \n",
    "- **Broadcasting**: Numpy supports broadcasting, which allows for operations on arrays of different shapes and sizes, making it easier to perform mathematical operations on datasets.\n",
    "  \n",
    "- **Integration with Other Libraries**: Numpy is the foundation for many other libraries in the Python ecosystem, such as Pandas, Scikit-learn, and TensorFlow, making it a crucial component for machine learning workflows.\n",
    "\n",
    "\n"
   ]
  },
  {
   "cell_type": "markdown",
   "id": "6520972d",
   "metadata": {},
   "source": [
    "#### Boolean in Numpy\n",
    "Numpy supports boolean operations, which are used to filter and manipulate data based on conditions. Boolean operations in Numpy allow you to create boolean arrays that can be used for indexing and filtering data.\n",
    "```python\n",
    "# Create a boolean array based on a condition\n",
    "arr = np.array([1, 2, 3, 4, 5])  # Creating a Numpy array   \n",
    "bool_arr = arr > 2  # Creating a boolean array where elements greater than 2 are marked as True\n",
    "print(bool_arr)  # Output: [False False  True  True  True]\n",
    "```\n",
    "Note that the returned array is a **`boolean array`**, where each element corresponds to whether the condition is met for the respective element in the original array. In this case, elements greater than 2 are marked as `True`, while others are marked as `False`. This is different from the filtered array, which contains only the **`elements`** that meet the condition.\n",
    "```python\n",
    "# Use the boolean array for indexing\n",
    "filtered_arr = arr[bool_arr]  # Filtering the original array using the boolean array\n",
    "print(filtered_arr)  # Output: [3 4 5]\n",
    "```\n"
   ]
  },
  {
   "cell_type": "markdown",
   "id": "96ee0ee1",
   "metadata": {},
   "source": [
    "## Pandas \n",
    "\n",
    "Pandas is a useful library for data manipulation and analysis in Python. It provides data structures like DataFrames and Series, which make it easy to work with structured data. Pandas is built on top of Numpy and is widely used in data science and machine learning tasks.\n",
    "\n",
    "Pandas can read, edit, and write data in various formats, including CSV, Excel, SQL databases, and more. It also provides powerful tools for data cleaning, transformation, and analysis.\n",
    "\n",
    "The main data structures in Pandas are:\n",
    "- `Series`: A one-dimensional labeled array that can hold any data type (similar to a column in a spreadsheet).\n",
    "\n",
    "- `DataFrame`: A two-dimensional labeled data structure with columns of potentially different types (similar to a table in a database or a spreadsheet).\n",
    "\n",
    "\n"
   ]
  },
  {
   "cell_type": "markdown",
   "id": "718b744c",
   "metadata": {},
   "source": [
    "### Basic Pandas Operations\n",
    "\n",
    "To create a Pandas DataFrame, you can use the `pd.DataFrame()` function. `pd` is the standard alias for the Pandas library, and it is commonly used in Python code.\n",
    "\n",
    "This function takes a dictionary, list of lists, or other data structures as input and converts it into a DataFrame. The syntax is as follows:\n",
    "- pd.DataFrame(data, columns=None, index=None)\n",
    "\n",
    "This creates a Pandas DataFrame from the provided data. You can specify the column names and index labels using the `columns` and `index` parameters, respectively. You can access the columns of a DataFrame using the `df['column_name']` syntax, where `df` is the DataFrame object and `column_name` is the name of the column you want to access.\n",
    "\n"
   ]
  },
  {
   "cell_type": "code",
   "execution_count": 4,
   "id": "c99e1768",
   "metadata": {},
   "outputs": [
    {
     "name": "stdout",
     "output_type": "stream",
     "text": [
      "Requirement already satisfied: pandas in /Users/maggiezhao/anaconda3/lib/python3.11/site-packages (2.0.3)\n",
      "Requirement already satisfied: python-dateutil>=2.8.2 in /Users/maggiezhao/anaconda3/lib/python3.11/site-packages (from pandas) (2.8.2)\n",
      "Requirement already satisfied: pytz>=2020.1 in /Users/maggiezhao/anaconda3/lib/python3.11/site-packages (from pandas) (2023.3.post1)\n",
      "Requirement already satisfied: tzdata>=2022.1 in /Users/maggiezhao/anaconda3/lib/python3.11/site-packages (from pandas) (2023.3)\n",
      "Requirement already satisfied: numpy>=1.21.0 in /Users/maggiezhao/anaconda3/lib/python3.11/site-packages (from pandas) (1.26.4)\n",
      "Requirement already satisfied: six>=1.5 in /Users/maggiezhao/anaconda3/lib/python3.11/site-packages (from python-dateutil>=2.8.2->pandas) (1.16.0)\n"
     ]
    }
   ],
   "source": [
    "!pip install pandas"
   ]
  },
  {
   "cell_type": "code",
   "execution_count": 1,
   "id": "b326553e",
   "metadata": {},
   "outputs": [
    {
     "name": "stdout",
     "output_type": "stream",
     "text": [
      "      Name  Age         City\n",
      "0    Alice   25     New York\n",
      "1      Bob   30  Los Angeles\n",
      "2  Charlie   35      Chicago\n",
      "==================== DataFrame Example ====================\n",
      "0      Alice\n",
      "1        Bob\n",
      "2    Charlie\n",
      "Name: Name, dtype: object\n"
     ]
    }
   ],
   "source": [
    "import pandas as pd  # Importing the Pandas library\n",
    "# Create a Pandas DataFrame from a dictionary\n",
    "data = {\n",
    "    'Name': ['Alice', 'Bob', 'Charlie'],\n",
    "    'Age': [25, 30, 35],\n",
    "    'City': ['New York', 'Los Angeles', 'Chicago']\n",
    "}\n",
    "df = pd.DataFrame(data)\n",
    "print(df)\n",
    "print(\"=\" * 20 + \" DataFrame Example \" + \"=\" * 20)\n",
    "print(df['Name'])  # Accessing a specific column"
   ]
  }
 ],
 "metadata": {
  "kernelspec": {
   "display_name": "base",
   "language": "python",
   "name": "python3"
  },
  "language_info": {
   "codemirror_mode": {
    "name": "ipython",
    "version": 3
   },
   "file_extension": ".py",
   "mimetype": "text/x-python",
   "name": "python",
   "nbconvert_exporter": "python",
   "pygments_lexer": "ipython3",
   "version": "3.11.5"
  }
 },
 "nbformat": 4,
 "nbformat_minor": 5
}
