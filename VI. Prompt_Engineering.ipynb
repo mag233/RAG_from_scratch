{
 "cells": [
  {
   "cell_type": "markdown",
   "id": "6aca4197",
   "metadata": {},
   "source": [
    "# Prompt Engineering"
   ]
  },
  {
   "cell_type": "markdown",
   "id": "d391c41a",
   "metadata": {},
   "source": [
    "So prompt engineering is the process of designing and refining prompts to elicit the desired responses from AI models. It has become such a common term that I don't feel like explaining it any further.\n",
    "\n",
    "I just want to list some common techniques I use often, and some not-so-common but neat ones as well.\n"
   ]
  },
  {
   "cell_type": "markdown",
   "id": "e634fbd6",
   "metadata": {},
   "source": [
    "## One-shot, few-shot, and zero-shot learning\n"
   ]
  },
  {
   "cell_type": "markdown",
   "id": "efc6cd28",
   "metadata": {},
   "source": [
    "## Chain of Thought Prompting"
   ]
  },
  {
   "cell_type": "markdown",
   "id": "94de2eda",
   "metadata": {},
   "source": [
    "## Multi-expert prompting"
   ]
  },
  {
   "cell_type": "markdown",
   "id": "b36a8ce6",
   "metadata": {},
   "source": [
    "## Structured Prompting"
   ]
  },
  {
   "cell_type": "markdown",
   "id": "8af7bcd1",
   "metadata": {},
   "source": []
  }
 ],
 "metadata": {
  "language_info": {
   "name": "python"
  }
 },
 "nbformat": 4,
 "nbformat_minor": 5
}
