{
 "cells": [
  {
   "cell_type": "markdown",
   "id": "5fd9aa9c",
   "metadata": {},
   "source": []
  },
  {
   "cell_type": "markdown",
   "id": "d39b6c59",
   "metadata": {},
   "source": []
  }
 ],
 "metadata": {
  "language_info": {
   "name": "python"
  }
 },
 "nbformat": 4,
 "nbformat_minor": 5
}
