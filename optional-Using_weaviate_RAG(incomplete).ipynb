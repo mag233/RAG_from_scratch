{
 "cells": [
  {
   "cell_type": "markdown",
   "id": "5fd9aa9c",
   "metadata": {},
   "source": [
    "# Introduction to Weaviate API\n",
    "\n",
    "There are many vector databases available, and Weaviate is one of them. It's demonstrated in DeepLearning.AI's course on RAG so I used it here as well. The workflow is similar to other vector databases, so you can (supposedly) easily switch to another one if you prefer.\n",
    "\n",
    "My first encounter with vector databases was with Chroma, which is also a popular choice. I will cover Chroma in another notebook.\n",
    "\n"
   ]
  },
  {
   "cell_type": "markdown",
   "id": "30075f9b",
   "metadata": {},
   "source": [
    "## Typical Vector Database Workflow\n",
    "\n",
    "1. `Set up the vector database`: This involves creating a connection to the database and defining the schema for your data.\n",
    "\n",
    "2. `Load data into the vector database`: This step involves ingesting your data into the database, which may include text, images, or other types of data.\n",
    "\n",
    "3. `Create sparse vectors for keyword search`: This step involves generating sparse vectors (e.g., TF-IDF or bag-of-words) for your data, which allows for keyword-based search capabilities.\n",
    "\n",
    "4. `Create dense vectors for semantic search`: This step involves generating embeddings for your data, which allows for semantic search capabilities.\n",
    "\n",
    "5. `Create HNSW index to power ANN`: This step involves creating an index that enables approximate nearest neighbor (ANN) search, which is essential for efficient retrieval of similar items in large datasets.\n",
    "\n",
    "6. `Query the vector database`: This step involves querying the database using either keyword-based or semantic search methods to retrieve relevant data."
   ]
  },
  {
   "cell_type": "markdown",
   "id": "d39b6c59",
   "metadata": {},
   "source": [
    "### Terminology Crash Course on KNN, ANN, and HNSW\n",
    "\n",
    "`KNN` stands for K-Nearest Neighbors, which is a type of algorithm used to find the closest points in a dataset to a given query point. It is commonly used in classification and regression tasks.\n",
    "\n",
    "<img src = \"./resource/knn.jpg\" width=\"400\"  alt=\"KNN Algorithm\" align=\"center\">\n",
    "\n",
    "`ANN` stands for Approximate Nearest Neighbor, which is a technique used to quickly find items in a dataset that are similar to a given query item. It is used to speed up search operations in high-dimensional spaces. However, it may **NOT** always return the exact nearest neighbors, but rather an approximation that is close enough for practical purposes. \n",
    "\n",
    "A basic flow of the ANN algorithm is as follows:\n",
    "\n",
    "1. **Create a proximity graph**: This involves building a graph structure where nodes represent data points and edges represent the proximity or similarity between every two points. The graph is constructed based on some distance metric (e.g., Euclidean distance) and can be sparse or dense depending on the dataset and the algorithm used.\n",
    "\n",
    "2. **Search for the nearest neighbors**: When a query is received, it is vectorized to create a query vector. The algorithm starts from a *randomly* chosen document (candidate vector) in the proximity graph. This candidate vector could be any vector in the dataset, and it serves as the starting point for the search.\n",
    "\n",
    "3. **Traverse the graph**: The algorithm traverses the graph by moving to the nearest neighbors of the current candidate vector, based on the distance metric. This process continues until a stopping condition is met, such as reaching a predefined number of neighbors or a certain distance threshold.\n",
    "\n",
    "<img src = \"./resource/ann.jpg\" width=\"400\"  alt=\"ANN Algorithm\" align=\"center\">\n",
    "\n",
    "#### ANN Algorithm in Action\n",
    "\n",
    "<img src = \"./resource/ann1.jpg\" width=\"400\"  alt=\"ANN Algorithm in Action\" align=\"center\">\n",
    "\n",
    "`HNSW` stands for Hierarchical Navigable Small World, which is a type of graph-based index used for approximate nearest neighbor search. It allows for efficient retrieval of similar items in high-dimensional spaces. HNSW improves upon the basic ANN by using a multi-layered proximity graph, allowing for faster searches by starting from higher layers and narrowing down to the full document set.\n",
    "\n",
    "This method significantly reduces search time, making it feasible to handle billions of vectors with minimal latency, while still providing close matches to the query.\n",
    "\n",
    "#### HNSW Algorithm \n",
    "<img src = \"./resource/hnsw1.jpg\" width=\"400\"  alt=\"HNSW Algorithm\" align=\"center\">\n",
    "\n",
    "#### HNSW in Action\n",
    "<img src = \"./resource/hnsw2.jpg\" width=\"400\"  alt=\"HNSW in Action\" align=\"center\">\n"
   ]
  },
  {
   "cell_type": "markdown",
   "id": "b8735409",
   "metadata": {},
   "source": [
    "## Weaviate Setup\n",
    "\n",
    "Weaviate can be run locally or accessed via a cloud service. It is an open-source vector database that allows you to store and search data using vector embeddings."
   ]
  },
  {
   "cell_type": "markdown",
   "id": "75e7a012",
   "metadata": {},
   "source": []
  },
  {
   "cell_type": "code",
   "execution_count": null,
   "id": "72986810",
   "metadata": {},
   "outputs": [],
   "source": [
    "# Install the Weaviate client library\n",
    "!pip install weaviate\n",
    "!pip install typing\n",
    "!pip install tqdm"
   ]
  },
  {
   "cell_type": "code",
   "execution_count": null,
   "id": "e524c819",
   "metadata": {},
   "outputs": [],
   "source": [
    "from weaviate.classes.config import Configure, Property, DataType\n",
    "from weaviate.classes.query import Filter\n",
    "from typing import List\n",
    "from tqdm import tqdm\n",
    "import joblib\n",
    "import weaviate\n",
    "import re\n",
    "from weaviate.util import generate_uuid5\n",
    "from pprint import pprint\n",
    "import os"
   ]
  },
  {
   "cell_type": "code",
   "execution_count": null,
   "id": "6b44e7c3",
   "metadata": {},
   "outputs": [],
   "source": [
    "import weaviate\n",
    "\n",
    "client = weaviate.connect_to_embedded(\n",
    "    version=\"1.26.1\",\n",
    "    headers={\n",
    "        \"X-OpenAI-Api-Key\":     os.getenv(\"OPENAI_API_KEY\"),\n",
    "        \"X-OpenAI-Api-Base\":    os.getenv(\"OPENAI_API_BASE\")\n",
    "\n",
    "    },\n",
    ")"
   ]
  },
  {
   "cell_type": "raw",
   "id": "c8b41b6a",
   "metadata": {
    "vscode": {
     "languageId": "raw"
    }
   },
   "source": [
    "┌──────────────────────────────┐\n",
    "│  一条数据（Object）          │\n",
    "│------------------------------│\n",
    "│ place: \"Times Square\"        │  ← 参与向量化\n",
    "│ state: \"New York\"            │  ← 参与向量化\n",
    "│ description: \"Major          │  ← 参与向量化\n",
    "│    commercial and tourist    │\n",
    "│    hub in NYC\"               │\n",
    "│ best_season_to_visit:        │  ← 参与向量化\n",
    "│    \"Winter\"                  │\n",
    "│ attractions: \"Broadway       │  ← 参与向量化\n",
    "│    Theaters, New Year’s Eve  │\n",
    "│    Ball Drop\"                │\n",
    "│ budget: \"High\"               │  ← 参与向量化\n",
    "│ user_ratings: 4.3            │  ✗ 不向量化\n",
    "│ last_updated: 2023-10-01     │  ✗ 不向量化\n",
    "└──────────────────────────────┘\n",
    "                │\n",
    "                │ 取出 source_properties 里的 6 个字段\n",
    "                ▼\n",
    "┌───────────────────────────────────────────────┐\n",
    "│ 拼接文本                                       │\n",
    "│ \"Times Square New York Major commercial and   │\n",
    "│  tourist hub in NYC Winter Broadway Theaters, │\n",
    "│  New Year’s Eve Ball Drop High\"               │\n",
    "└───────────────────────────────────────────────┘\n",
    "                │\n",
    "                ▼\n",
    "┌───────────────────────────────────────────────┐\n",
    "│ 送入向量化器（text2vec-transformers）          │\n",
    "│ 调用 http://127.0.0.1:5000 API 生成向量         │\n",
    "└───────────────────────────────────────────────┘\n",
    "                │\n",
    "                ▼\n",
    "┌──────────────────────────────┐\n",
    "│ 高维向量（例：384 维）        │\n",
    "│ [0.12, -0.45, 0.33, ...]     │\n",
    "│ 名字： \"vector\"              │\n",
    "└──────────────────────────────┘\n"
   ]
  }
 ],
 "metadata": {
  "kernelspec": {
   "display_name": "Python 3",
   "language": "python",
   "name": "python3"
  },
  "language_info": {
   "codemirror_mode": {
    "name": "ipython",
    "version": 3
   },
   "file_extension": ".py",
   "mimetype": "text/x-python",
   "name": "python",
   "nbconvert_exporter": "python",
   "pygments_lexer": "ipython3",
   "version": "3.12.2"
  }
 },
 "nbformat": 4,
 "nbformat_minor": 5
}
